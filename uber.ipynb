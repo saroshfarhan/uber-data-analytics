{
 "cells": [
  {
   "cell_type": "markdown",
   "id": "9154208e",
   "metadata": {
    "papermill": {
     "duration": 0.00265,
     "end_time": "2025-08-30T01:06:42.490327",
     "exception": false,
     "start_time": "2025-08-30T01:06:42.487677",
     "status": "completed"
    },
    "tags": []
   },
   "source": [
    "# Creating analytics for Uber\n",
    "\n",
    "I will be doing some EDA on this notebook which will lay the groundwork for me to create dashboard in Tablueau"
   ]
  },
  {
   "cell_type": "markdown",
   "id": "cb98d018",
   "metadata": {
    "papermill": {
     "duration": 0.001175,
     "end_time": "2025-08-30T01:06:42.493044",
     "exception": false,
     "start_time": "2025-08-30T01:06:42.491869",
     "status": "completed"
    },
    "tags": []
   },
   "source": [
    "# Importing libraries and dataset"
   ]
  },
  {
   "cell_type": "code",
   "execution_count": 1,
   "id": "4f6f77d2",
   "metadata": {
    "execution": {
     "iopub.execute_input": "2025-08-30T01:06:42.497678Z",
     "iopub.status.busy": "2025-08-30T01:06:42.496886Z",
     "iopub.status.idle": "2025-08-30T01:06:48.213811Z",
     "shell.execute_reply": "2025-08-30T01:06:48.212947Z"
    },
    "papermill": {
     "duration": 5.721675,
     "end_time": "2025-08-30T01:06:48.215866",
     "exception": false,
     "start_time": "2025-08-30T01:06:42.494191",
     "status": "completed"
    },
    "tags": []
   },
   "outputs": [
    {
     "name": "stderr",
     "output_type": "stream",
     "text": [
      "/tmp/ipykernel_13/1045556834.py:15: DeprecationWarning: load_dataset is deprecated and will be removed in a future version.\n",
      "  uber_data = kagglehub.load_dataset(\n"
     ]
    },
    {
     "name": "stdout",
     "output_type": "stream",
     "text": [
      "First 5 records:          Date      Time    Booking ID   Booking Status   Customer ID  \\\n",
      "0  2024-03-23  12:29:38  \"CNR5884300\"  No Driver Found  \"CID1982111\"   \n",
      "1  2024-11-29  18:01:39  \"CNR1326809\"       Incomplete  \"CID4604802\"   \n",
      "2  2024-08-23  08:56:10  \"CNR8494506\"        Completed  \"CID9202816\"   \n",
      "3  2024-10-21  17:17:25  \"CNR8906825\"        Completed  \"CID2610914\"   \n",
      "4  2024-09-16  22:08:00  \"CNR1950162\"        Completed  \"CID9933542\"   \n",
      "\n",
      "    Vehicle Type      Pickup Location      Drop Location  Avg VTAT  Avg CTAT  \\\n",
      "0          eBike          Palam Vihar            Jhilmil       NaN       NaN   \n",
      "1       Go Sedan        Shastri Nagar  Gurgaon Sector 56       4.9      14.0   \n",
      "2           Auto              Khandsa      Malviya Nagar      13.4      25.8   \n",
      "3  Premier Sedan  Central Secretariat           Inderlok      13.1      28.5   \n",
      "4           Bike     Ghitorni Village        Khan Market       5.3      19.6   \n",
      "\n",
      "   ...  Reason for cancelling by Customer Cancelled Rides by Driver  \\\n",
      "0  ...                                NaN                       NaN   \n",
      "1  ...                                NaN                       NaN   \n",
      "2  ...                                NaN                       NaN   \n",
      "3  ...                                NaN                       NaN   \n",
      "4  ...                                NaN                       NaN   \n",
      "\n",
      "   Driver Cancellation Reason Incomplete Rides  Incomplete Rides Reason  \\\n",
      "0                         NaN              NaN                      NaN   \n",
      "1                         NaN              1.0        Vehicle Breakdown   \n",
      "2                         NaN              NaN                      NaN   \n",
      "3                         NaN              NaN                      NaN   \n",
      "4                         NaN              NaN                      NaN   \n",
      "\n",
      "  Booking Value  Ride Distance  Driver Ratings  Customer Rating  \\\n",
      "0           NaN            NaN             NaN              NaN   \n",
      "1         237.0           5.73             NaN              NaN   \n",
      "2         627.0          13.58             4.9              4.9   \n",
      "3         416.0          34.02             4.6              5.0   \n",
      "4         737.0          48.21             4.1              4.3   \n",
      "\n",
      "   Payment Method  \n",
      "0             NaN  \n",
      "1             UPI  \n",
      "2      Debit Card  \n",
      "3             UPI  \n",
      "4             UPI  \n",
      "\n",
      "[5 rows x 21 columns]\n"
     ]
    },
    {
     "name": "stderr",
     "output_type": "stream",
     "text": [
      "/usr/local/lib/python3.11/dist-packages/pandas/io/formats/format.py:1458: RuntimeWarning: invalid value encountered in greater\n",
      "  has_large_values = (abs_vals > 1e6).any()\n",
      "/usr/local/lib/python3.11/dist-packages/pandas/io/formats/format.py:1459: RuntimeWarning: invalid value encountered in less\n",
      "  has_small_values = ((abs_vals < 10 ** (-self.digits)) & (abs_vals > 0)).any()\n",
      "/usr/local/lib/python3.11/dist-packages/pandas/io/formats/format.py:1459: RuntimeWarning: invalid value encountered in greater\n",
      "  has_small_values = ((abs_vals < 10 ** (-self.digits)) & (abs_vals > 0)).any()\n"
     ]
    }
   ],
   "source": [
    "import pandas as pd\n",
    "import numpy as np\n",
    "import matplotlib.pyplot as plt\n",
    "import seaborn as sns\n",
    "\n",
    "# Install dependencies as needed:\n",
    "# pip install kagglehub[pandas-datasets]\n",
    "import kagglehub\n",
    "from kagglehub import KaggleDatasetAdapter\n",
    "\n",
    "# Set the path to the file you'd like to load\n",
    "file_path = \"/ncr_ride_bookings.csv\"\n",
    "\n",
    "# Load the latest version\n",
    "uber_data = kagglehub.load_dataset(\n",
    "  KaggleDatasetAdapter.PANDAS,\n",
    "  \"yashdevladdha/uber-ride-analytics-dashboard\",\n",
    "  file_path,\n",
    "  # Provide any additional arguments like \n",
    "  # sql_query or pandas_kwargs. See the \n",
    "  # documenation for more information:\n",
    "  # https://github.com/Kaggle/kagglehub/blob/main/README.md#kaggledatasetadapterpandas\n",
    ")\n",
    "\n",
    "print(\"First 5 records:\", uber_data.head())"
   ]
  },
  {
   "cell_type": "code",
   "execution_count": 2,
   "id": "380eccaf",
   "metadata": {
    "execution": {
     "iopub.execute_input": "2025-08-30T01:06:48.220806Z",
     "iopub.status.busy": "2025-08-30T01:06:48.220493Z",
     "iopub.status.idle": "2025-08-30T01:06:48.406932Z",
     "shell.execute_reply": "2025-08-30T01:06:48.406109Z"
    },
    "papermill": {
     "duration": 0.190087,
     "end_time": "2025-08-30T01:06:48.408122",
     "exception": false,
     "start_time": "2025-08-30T01:06:48.218035",
     "status": "completed"
    },
    "tags": []
   },
   "outputs": [
    {
     "name": "stdout",
     "output_type": "stream",
     "text": [
      "<class 'pandas.core.frame.DataFrame'>\n",
      "RangeIndex: 150000 entries, 0 to 149999\n",
      "Data columns (total 21 columns):\n",
      " #   Column                             Non-Null Count   Dtype  \n",
      "---  ------                             --------------   -----  \n",
      " 0   Date                               150000 non-null  object \n",
      " 1   Time                               150000 non-null  object \n",
      " 2   Booking ID                         150000 non-null  object \n",
      " 3   Booking Status                     150000 non-null  object \n",
      " 4   Customer ID                        150000 non-null  object \n",
      " 5   Vehicle Type                       150000 non-null  object \n",
      " 6   Pickup Location                    150000 non-null  object \n",
      " 7   Drop Location                      150000 non-null  object \n",
      " 8   Avg VTAT                           139500 non-null  float64\n",
      " 9   Avg CTAT                           102000 non-null  float64\n",
      " 10  Cancelled Rides by Customer        10500 non-null   float64\n",
      " 11  Reason for cancelling by Customer  10500 non-null   object \n",
      " 12  Cancelled Rides by Driver          27000 non-null   float64\n",
      " 13  Driver Cancellation Reason         27000 non-null   object \n",
      " 14  Incomplete Rides                   9000 non-null    float64\n",
      " 15  Incomplete Rides Reason            9000 non-null    object \n",
      " 16  Booking Value                      102000 non-null  float64\n",
      " 17  Ride Distance                      102000 non-null  float64\n",
      " 18  Driver Ratings                     93000 non-null   float64\n",
      " 19  Customer Rating                    93000 non-null   float64\n",
      " 20  Payment Method                     102000 non-null  object \n",
      "dtypes: float64(9), object(12)\n",
      "memory usage: 24.0+ MB\n"
     ]
    },
    {
     "data": {
      "text/html": [
       "<div>\n",
       "<style scoped>\n",
       "    .dataframe tbody tr th:only-of-type {\n",
       "        vertical-align: middle;\n",
       "    }\n",
       "\n",
       "    .dataframe tbody tr th {\n",
       "        vertical-align: top;\n",
       "    }\n",
       "\n",
       "    .dataframe thead th {\n",
       "        text-align: right;\n",
       "    }\n",
       "</style>\n",
       "<table border=\"1\" class=\"dataframe\">\n",
       "  <thead>\n",
       "    <tr style=\"text-align: right;\">\n",
       "      <th></th>\n",
       "      <th>Avg VTAT</th>\n",
       "      <th>Avg CTAT</th>\n",
       "      <th>Cancelled Rides by Customer</th>\n",
       "      <th>Cancelled Rides by Driver</th>\n",
       "      <th>Incomplete Rides</th>\n",
       "      <th>Booking Value</th>\n",
       "      <th>Ride Distance</th>\n",
       "      <th>Driver Ratings</th>\n",
       "      <th>Customer Rating</th>\n",
       "    </tr>\n",
       "  </thead>\n",
       "  <tbody>\n",
       "    <tr>\n",
       "      <th>count</th>\n",
       "      <td>139500.000000</td>\n",
       "      <td>102000.000000</td>\n",
       "      <td>10500.0</td>\n",
       "      <td>27000.0</td>\n",
       "      <td>9000.0</td>\n",
       "      <td>102000.000000</td>\n",
       "      <td>102000.000000</td>\n",
       "      <td>93000.000000</td>\n",
       "      <td>93000.000000</td>\n",
       "    </tr>\n",
       "    <tr>\n",
       "      <th>mean</th>\n",
       "      <td>8.456352</td>\n",
       "      <td>29.149636</td>\n",
       "      <td>1.0</td>\n",
       "      <td>1.0</td>\n",
       "      <td>1.0</td>\n",
       "      <td>508.295912</td>\n",
       "      <td>24.637012</td>\n",
       "      <td>4.230992</td>\n",
       "      <td>4.404584</td>\n",
       "    </tr>\n",
       "    <tr>\n",
       "      <th>std</th>\n",
       "      <td>3.773564</td>\n",
       "      <td>8.902577</td>\n",
       "      <td>0.0</td>\n",
       "      <td>0.0</td>\n",
       "      <td>0.0</td>\n",
       "      <td>395.805774</td>\n",
       "      <td>14.002138</td>\n",
       "      <td>0.436871</td>\n",
       "      <td>0.437819</td>\n",
       "    </tr>\n",
       "    <tr>\n",
       "      <th>min</th>\n",
       "      <td>2.000000</td>\n",
       "      <td>10.000000</td>\n",
       "      <td>1.0</td>\n",
       "      <td>1.0</td>\n",
       "      <td>1.0</td>\n",
       "      <td>50.000000</td>\n",
       "      <td>1.000000</td>\n",
       "      <td>3.000000</td>\n",
       "      <td>3.000000</td>\n",
       "    </tr>\n",
       "    <tr>\n",
       "      <th>25%</th>\n",
       "      <td>5.300000</td>\n",
       "      <td>21.600000</td>\n",
       "      <td>1.0</td>\n",
       "      <td>1.0</td>\n",
       "      <td>1.0</td>\n",
       "      <td>234.000000</td>\n",
       "      <td>12.460000</td>\n",
       "      <td>4.100000</td>\n",
       "      <td>4.200000</td>\n",
       "    </tr>\n",
       "    <tr>\n",
       "      <th>50%</th>\n",
       "      <td>8.300000</td>\n",
       "      <td>28.800000</td>\n",
       "      <td>1.0</td>\n",
       "      <td>1.0</td>\n",
       "      <td>1.0</td>\n",
       "      <td>414.000000</td>\n",
       "      <td>23.720000</td>\n",
       "      <td>4.300000</td>\n",
       "      <td>4.500000</td>\n",
       "    </tr>\n",
       "    <tr>\n",
       "      <th>75%</th>\n",
       "      <td>11.300000</td>\n",
       "      <td>36.800000</td>\n",
       "      <td>1.0</td>\n",
       "      <td>1.0</td>\n",
       "      <td>1.0</td>\n",
       "      <td>689.000000</td>\n",
       "      <td>36.820000</td>\n",
       "      <td>4.600000</td>\n",
       "      <td>4.800000</td>\n",
       "    </tr>\n",
       "    <tr>\n",
       "      <th>max</th>\n",
       "      <td>20.000000</td>\n",
       "      <td>45.000000</td>\n",
       "      <td>1.0</td>\n",
       "      <td>1.0</td>\n",
       "      <td>1.0</td>\n",
       "      <td>4277.000000</td>\n",
       "      <td>50.000000</td>\n",
       "      <td>5.000000</td>\n",
       "      <td>5.000000</td>\n",
       "    </tr>\n",
       "  </tbody>\n",
       "</table>\n",
       "</div>"
      ],
      "text/plain": [
       "            Avg VTAT       Avg CTAT  Cancelled Rides by Customer  \\\n",
       "count  139500.000000  102000.000000                      10500.0   \n",
       "mean        8.456352      29.149636                          1.0   \n",
       "std         3.773564       8.902577                          0.0   \n",
       "min         2.000000      10.000000                          1.0   \n",
       "25%         5.300000      21.600000                          1.0   \n",
       "50%         8.300000      28.800000                          1.0   \n",
       "75%        11.300000      36.800000                          1.0   \n",
       "max        20.000000      45.000000                          1.0   \n",
       "\n",
       "       Cancelled Rides by Driver  Incomplete Rides  Booking Value  \\\n",
       "count                    27000.0            9000.0  102000.000000   \n",
       "mean                         1.0               1.0     508.295912   \n",
       "std                          0.0               0.0     395.805774   \n",
       "min                          1.0               1.0      50.000000   \n",
       "25%                          1.0               1.0     234.000000   \n",
       "50%                          1.0               1.0     414.000000   \n",
       "75%                          1.0               1.0     689.000000   \n",
       "max                          1.0               1.0    4277.000000   \n",
       "\n",
       "       Ride Distance  Driver Ratings  Customer Rating  \n",
       "count  102000.000000    93000.000000     93000.000000  \n",
       "mean       24.637012        4.230992         4.404584  \n",
       "std        14.002138        0.436871         0.437819  \n",
       "min         1.000000        3.000000         3.000000  \n",
       "25%        12.460000        4.100000         4.200000  \n",
       "50%        23.720000        4.300000         4.500000  \n",
       "75%        36.820000        4.600000         4.800000  \n",
       "max        50.000000        5.000000         5.000000  "
      ]
     },
     "execution_count": 2,
     "metadata": {},
     "output_type": "execute_result"
    }
   ],
   "source": [
    "# print the info of the dataframe\n",
    "uber_data.info()\n",
    "\n",
    "# describe the statistics of the dataframe\n",
    "uber_data.describe()"
   ]
  },
  {
   "cell_type": "markdown",
   "id": "122c902e",
   "metadata": {
    "papermill": {
     "duration": 0.001569,
     "end_time": "2025-08-30T01:06:48.411978",
     "exception": false,
     "start_time": "2025-08-30T01:06:48.410409",
     "status": "completed"
    },
    "tags": []
   },
   "source": [
    "Looks good for now, will now look at numerical statistics and do some visualisation"
   ]
  },
  {
   "cell_type": "code",
   "execution_count": null,
   "id": "1fb1e4ae",
   "metadata": {
    "papermill": {
     "duration": 0.001355,
     "end_time": "2025-08-30T01:06:48.414980",
     "exception": false,
     "start_time": "2025-08-30T01:06:48.413625",
     "status": "completed"
    },
    "tags": []
   },
   "outputs": [],
   "source": []
  }
 ],
 "metadata": {
  "kaggle": {
   "accelerator": "none",
   "dataSources": [
    {
     "datasetId": 8032385,
     "isSourceIdPinned": false,
     "sourceId": 12709507,
     "sourceType": "datasetVersion"
    }
   ],
   "dockerImageVersionId": 31089,
   "isGpuEnabled": false,
   "isInternetEnabled": true,
   "language": "python",
   "sourceType": "notebook"
  },
  "kernelspec": {
   "display_name": "Python 3",
   "language": "python",
   "name": "python3"
  },
  "language_info": {
   "codemirror_mode": {
    "name": "ipython",
    "version": 3
   },
   "file_extension": ".py",
   "mimetype": "text/x-python",
   "name": "python",
   "nbconvert_exporter": "python",
   "pygments_lexer": "ipython3",
   "version": "3.11.13"
  },
  "papermill": {
   "default_parameters": {},
   "duration": 13.045923,
   "end_time": "2025-08-30T01:06:49.441444",
   "environment_variables": {},
   "exception": null,
   "input_path": "__notebook__.ipynb",
   "output_path": "__notebook__.ipynb",
   "parameters": {},
   "start_time": "2025-08-30T01:06:36.395521",
   "version": "2.6.0"
  }
 },
 "nbformat": 4,
 "nbformat_minor": 5
}
